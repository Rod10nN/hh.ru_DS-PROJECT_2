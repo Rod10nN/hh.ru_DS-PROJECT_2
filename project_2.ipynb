{
 "cells": [
  {
   "attachments": {},
   "cell_type": "markdown",
   "metadata": {},
   "source": [
    "<center> <img src = https://upload.wikimedia.org/wikipedia/commons/thumb/7/79/HeadHunter_logo.png/640px-HeadHunter_logo.png width=300px >"
   ]
  },
  {
   "attachments": {},
   "cell_type": "markdown",
   "metadata": {},
   "source": [
    "# <center> Проект: Анализ вакансий из HeadHunter"
   ]
  },
  {
   "cell_type": "code",
   "execution_count": 2,
   "metadata": {},
   "outputs": [],
   "source": [
    "import pandas as pd \n",
    "import psycopg2"
   ]
  },
  {
   "cell_type": "code",
   "execution_count": 348,
   "metadata": {},
   "outputs": [],
   "source": [
    "file = open('connection_parameters.txt') #Открытие параметров для соедиения\n",
    "list_connection = [line.rstrip('\\n') for line in file]\n",
    "DBNAME = list_connection[0]\n",
    "USER = list_connection[1]\n",
    "PASSWORD = list_connection[2]\n",
    "HOST = list_connection[3]\n",
    "PORT = int(list_connection[4])"
   ]
  },
  {
   "cell_type": "code",
   "execution_count": 353,
   "metadata": {},
   "outputs": [],
   "source": [
    "connection = psycopg2.connect(\n",
    "    dbname=DBNAME,\n",
    "    user=USER,\n",
    "    host=HOST,\n",
    "    password=PASSWORD,\n",
    "    port=PORT\n",
    ")\n"
   ]
  },
  {
   "attachments": {},
   "cell_type": "markdown",
   "metadata": {},
   "source": [
    "## <center> 1. Предварительный анализ данных"
   ]
  },
  {
   "attachments": {},
   "cell_type": "markdown",
   "metadata": {},
   "source": [
    "**1) Запрос, который посчитает количество вакансий в нашей базе**"
   ]
  },
  {
   "cell_type": "code",
   "execution_count": 374,
   "metadata": {},
   "outputs": [],
   "source": [
    "# текст запроса\n",
    "query_1_1 = f'''select count(*) cnt_vac  \n",
    "                from VACANCIES\n",
    "'''\n",
    "        "
   ]
  },
  {
   "cell_type": "code",
   "execution_count": 375,
   "metadata": {},
   "outputs": [
    {
     "name": "stderr",
     "output_type": "stream",
     "text": [
      "C:\\Users\\rodni\\AppData\\Local\\Temp\\ipykernel_30472\\3073949867.py:2: UserWarning: pandas only supports SQLAlchemy connectable (engine/connection) or database string URI or sqlite3 DBAPI2 connection. Other DBAPI2 objects are not tested. Please consider using SQLAlchemy.\n",
      "  cnt_vac = pd.read_sql_query(query_1_1, connection)\n"
     ]
    },
    {
     "data": {
      "text/plain": [
       "49197"
      ]
     },
     "execution_count": 375,
     "metadata": {},
     "output_type": "execute_result"
    }
   ],
   "source": [
    "# результат запроса\n",
    "cnt_vac = pd.read_sql_query(query_1_1, connection)\n",
    "cnt_vac['cnt_vac'][0] #количество вакансий в базе"
   ]
  },
  {
   "attachments": {},
   "cell_type": "markdown",
   "metadata": {},
   "source": [
    "**2) Запрос, который посчитает количество работадателей в нашей базе**"
   ]
  },
  {
   "cell_type": "code",
   "execution_count": 151,
   "metadata": {},
   "outputs": [],
   "source": [
    "query_1_2 = f'''select count(*) cnt_employers\n",
    "                from EMPLOYERS\n",
    "'''"
   ]
  },
  {
   "cell_type": "code",
   "execution_count": 152,
   "metadata": {},
   "outputs": [
    {
     "name": "stderr",
     "output_type": "stream",
     "text": [
      "C:\\Users\\rodni\\AppData\\Local\\Temp\\ipykernel_30472\\1923868411.py:1: UserWarning: pandas only supports SQLAlchemy connectable (engine/connection) or database string URI or sqlite3 DBAPI2 connection. Other DBAPI2 objects are not tested. Please consider using SQLAlchemy.\n",
      "  cnt_employers = pd.read_sql_query(query_1_2, connection)\n"
     ]
    },
    {
     "data": {
      "text/plain": [
       "23501"
      ]
     },
     "execution_count": 152,
     "metadata": {},
     "output_type": "execute_result"
    }
   ],
   "source": [
    "cnt_employers = pd.read_sql_query(query_1_2, connection)\n",
    "cnt_employers['cnt_employers'][0] #количество работадателей в базе\n"
   ]
  },
  {
   "attachments": {},
   "cell_type": "markdown",
   "metadata": {},
   "source": [
    "**3) Запрос, который посчитает количество регионов в нашей базе**"
   ]
  },
  {
   "cell_type": "code",
   "execution_count": 149,
   "metadata": {},
   "outputs": [],
   "source": [
    "query_1_3 = f'''select count(distinct name) cnt_regions\n",
    "                from AREAS\n",
    "'''"
   ]
  },
  {
   "cell_type": "code",
   "execution_count": 150,
   "metadata": {},
   "outputs": [
    {
     "name": "stderr",
     "output_type": "stream",
     "text": [
      "C:\\Users\\rodni\\AppData\\Local\\Temp\\ipykernel_30472\\151406758.py:1: UserWarning: pandas only supports SQLAlchemy connectable (engine/connection) or database string URI or sqlite3 DBAPI2 connection. Other DBAPI2 objects are not tested. Please consider using SQLAlchemy.\n",
      "  cnt_regions = pd.read_sql_query(query_1_3, connection)\n"
     ]
    },
    {
     "data": {
      "text/plain": [
       "1362"
      ]
     },
     "execution_count": 150,
     "metadata": {},
     "output_type": "execute_result"
    }
   ],
   "source": [
    "cnt_regions = pd.read_sql_query(query_1_3, connection)\n",
    "cnt_regions['cnt_regions'][0] #Количество регионов в базе\n"
   ]
  },
  {
   "attachments": {},
   "cell_type": "markdown",
   "metadata": {},
   "source": [
    "**4) Запрос, который посчитает количество сфер деятельности в нашей базе**"
   ]
  },
  {
   "cell_type": "code",
   "execution_count": 153,
   "metadata": {},
   "outputs": [],
   "source": [
    "query_1_4 = f'''select count(distinct name) areas_of_activity\n",
    "                from INDUSTRIES\n",
    "'''"
   ]
  },
  {
   "cell_type": "code",
   "execution_count": 159,
   "metadata": {},
   "outputs": [
    {
     "name": "stderr",
     "output_type": "stream",
     "text": [
      "C:\\Users\\rodni\\AppData\\Local\\Temp\\ipykernel_30472\\2494791268.py:1: UserWarning: pandas only supports SQLAlchemy connectable (engine/connection) or database string URI or sqlite3 DBAPI2 connection. Other DBAPI2 objects are not tested. Please consider using SQLAlchemy.\n",
      "  areas_of_activity = pd.read_sql_query(query_1_4, connection)\n"
     ]
    },
    {
     "data": {
      "text/plain": [
       "294"
      ]
     },
     "execution_count": 159,
     "metadata": {},
     "output_type": "execute_result"
    }
   ],
   "source": [
    "areas_of_activity = pd.read_sql_query(query_1_4, connection)\n",
    "areas_of_activity['areas_of_activity'][0] #Количество регионов в базе\n"
   ]
  },
  {
   "attachments": {},
   "cell_type": "markdown",
   "metadata": {},
   "source": [
    "##### Выводы по предварительному анализу данных:\n",
    "\n",
    "* В базе 49197 вакансий\n",
    "\n",
    "* В базе 23501 работадателей\n",
    "\n",
    "* Данных достаточно для анализа\n",
    "\n",
    "* В базе регионы не только из РФ"
   ]
  },
  {
   "attachments": {},
   "cell_type": "markdown",
   "metadata": {},
   "source": [
    "## <center> 2. Детальный анализ вакансий"
   ]
  },
  {
   "attachments": {},
   "cell_type": "markdown",
   "metadata": {},
   "source": [
    "**1) Запрос, который позволит узнать топ-5 регионов по количеству вакансий**"
   ]
  },
  {
   "cell_type": "code",
   "execution_count": 184,
   "metadata": {},
   "outputs": [],
   "source": [
    "n = 5\n",
    "query_2_1 = f'''select a.name, count(v.id) cnt_area\n",
    "           from VACANCIES v\n",
    "           join AREAS a on area_id = a.id\n",
    "           group by a.id\n",
    "           order by 2 desc\n",
    "           limit {n}'''"
   ]
  },
  {
   "cell_type": "code",
   "execution_count": 185,
   "metadata": {},
   "outputs": [
    {
     "name": "stderr",
     "output_type": "stream",
     "text": [
      "C:\\Users\\rodni\\AppData\\Local\\Temp\\ipykernel_30472\\1215467203.py:1: UserWarning: pandas only supports SQLAlchemy connectable (engine/connection) or database string URI or sqlite3 DBAPI2 connection. Other DBAPI2 objects are not tested. Please consider using SQLAlchemy.\n",
      "  cnt_area = pd.read_sql_query(query_2_1, connection)\n"
     ]
    },
    {
     "data": {
      "text/plain": [
       "['Москва', 'Санкт-Петербург', 'Минск', 'Новосибирск', 'Алматы']"
      ]
     },
     "execution_count": 185,
     "metadata": {},
     "output_type": "execute_result"
    }
   ],
   "source": [
    "cnt_area = pd.read_sql_query(query_2_1, connection)\n",
    "list(cnt_area['name'])"
   ]
  },
  {
   "attachments": {},
   "cell_type": "markdown",
   "metadata": {},
   "source": [
    "**2) Запрос, который позволит узнать, у какого количества вакансий заполнено хотя бы одно из двух полей с зарплатой?**"
   ]
  },
  {
   "cell_type": "code",
   "execution_count": 165,
   "metadata": {},
   "outputs": [],
   "source": [
    "query_2_2 = f'''select count(*) filled_vac\n",
    "                from VACANCIES \n",
    "                where salary_from is not null or salary_to is not null\n",
    "'''"
   ]
  },
  {
   "cell_type": "code",
   "execution_count": 166,
   "metadata": {},
   "outputs": [
    {
     "name": "stderr",
     "output_type": "stream",
     "text": [
      "C:\\Users\\rodni\\AppData\\Local\\Temp\\ipykernel_30472\\742889117.py:1: UserWarning: pandas only supports SQLAlchemy connectable (engine/connection) or database string URI or sqlite3 DBAPI2 connection. Other DBAPI2 objects are not tested. Please consider using SQLAlchemy.\n",
      "  filled_vac = pd.read_sql_query(query_2_2, connection)\n"
     ]
    },
    {
     "data": {
      "text/plain": [
       "24073"
      ]
     },
     "execution_count": 166,
     "metadata": {},
     "output_type": "execute_result"
    }
   ],
   "source": [
    "filled_vac = pd.read_sql_query(query_2_2, connection)\n",
    "filled_vac['filled_vac'][0]"
   ]
  },
  {
   "attachments": {},
   "cell_type": "markdown",
   "metadata": {},
   "source": [
    "**3) Запрос, который позволит узнать, средние значения для нижней и верхней границы зарплатной вилки**"
   ]
  },
  {
   "cell_type": "code",
   "execution_count": 167,
   "metadata": {},
   "outputs": [],
   "source": [
    "query_2_3 = '''select ROUND(avg(salary_from)) avg_salary_from, ROUND(avg(salary_to)) avg_salary_to\n",
    "               from VACANCIES\n",
    "'''"
   ]
  },
  {
   "cell_type": "code",
   "execution_count": 178,
   "metadata": {},
   "outputs": [
    {
     "name": "stdout",
     "output_type": "stream",
     "text": [
      "71065.0\n",
      "110537.0\n"
     ]
    },
    {
     "name": "stderr",
     "output_type": "stream",
     "text": [
      "C:\\Users\\rodni\\AppData\\Local\\Temp\\ipykernel_30472\\2151410556.py:1: UserWarning: pandas only supports SQLAlchemy connectable (engine/connection) or database string URI or sqlite3 DBAPI2 connection. Other DBAPI2 objects are not tested. Please consider using SQLAlchemy.\n",
      "  salary_fork = pd.read_sql_query(query_2_3, connection)\n"
     ]
    }
   ],
   "source": [
    "salary_fork = pd.read_sql_query(query_2_3, connection)\n",
    "print(salary_fork['avg_salary_from'][0])\n",
    "print(salary_fork['avg_salary_to'][0])"
   ]
  },
  {
   "attachments": {},
   "cell_type": "markdown",
   "metadata": {},
   "source": [
    "**4) Запрос, который позволит узнать, количество вакансий для каждого сочетания типа рабочего графика (schedule) и типа трудоустройства (employment), используемого в вакансиях. В качестве ответа приводится вторая пара по популярности**"
   ]
  },
  {
   "cell_type": "code",
   "execution_count": 376,
   "metadata": {},
   "outputs": [],
   "source": [
    "query_2_4 = '''select schedule, employment, count(id)\n",
    "           from VACANCIES\n",
    "           group by 1, 2\n",
    "           order by 3 desc\n",
    "           offset 1 limit 1\n",
    "'''"
   ]
  },
  {
   "cell_type": "code",
   "execution_count": 377,
   "metadata": {},
   "outputs": [
    {
     "name": "stderr",
     "output_type": "stream",
     "text": [
      "C:\\Users\\rodni\\AppData\\Local\\Temp\\ipykernel_30472\\1947912757.py:1: UserWarning: pandas only supports SQLAlchemy connectable (engine/connection) or database string URI or sqlite3 DBAPI2 connection. Other DBAPI2 objects are not tested. Please consider using SQLAlchemy.\n",
      "  cnt_empl_sch = pd.read_sql_query(query_2_4, connection)\n"
     ]
    },
    {
     "data": {
      "text/html": [
       "<div>\n",
       "<style scoped>\n",
       "    .dataframe tbody tr th:only-of-type {\n",
       "        vertical-align: middle;\n",
       "    }\n",
       "\n",
       "    .dataframe tbody tr th {\n",
       "        vertical-align: top;\n",
       "    }\n",
       "\n",
       "    .dataframe thead th {\n",
       "        text-align: right;\n",
       "    }\n",
       "</style>\n",
       "<table border=\"1\" class=\"dataframe\">\n",
       "  <thead>\n",
       "    <tr style=\"text-align: right;\">\n",
       "      <th></th>\n",
       "      <th>schedule</th>\n",
       "      <th>employment</th>\n",
       "      <th>count</th>\n",
       "    </tr>\n",
       "  </thead>\n",
       "  <tbody>\n",
       "    <tr>\n",
       "      <th>0</th>\n",
       "      <td>Удаленная работа</td>\n",
       "      <td>Полная занятость</td>\n",
       "      <td>7802</td>\n",
       "    </tr>\n",
       "  </tbody>\n",
       "</table>\n",
       "</div>"
      ],
      "text/plain": [
       "           schedule        employment  count\n",
       "0  Удаленная работа  Полная занятость   7802"
      ]
     },
     "execution_count": 377,
     "metadata": {},
     "output_type": "execute_result"
    }
   ],
   "source": [
    "cnt_empl_sch = pd.read_sql_query(query_2_4, connection)\n",
    "cnt_empl_sch"
   ]
  },
  {
   "attachments": {},
   "cell_type": "markdown",
   "metadata": {},
   "source": [
    "**5) Запрос, выводящий требуемый опыт работы от количества вакансий в порядке возрастания**"
   ]
  },
  {
   "cell_type": "code",
   "execution_count": 186,
   "metadata": {},
   "outputs": [],
   "source": [
    "query_2_5 = '''select experience, count(id) cnt_vacancies\n",
    "           from VACANCIES\n",
    "           group by experience\n",
    "           order by 2\n",
    "'''"
   ]
  },
  {
   "cell_type": "code",
   "execution_count": 189,
   "metadata": {},
   "outputs": [
    {
     "name": "stderr",
     "output_type": "stream",
     "text": [
      "C:\\Users\\rodni\\AppData\\Local\\Temp\\ipykernel_30472\\2173679686.py:1: UserWarning: pandas only supports SQLAlchemy connectable (engine/connection) or database string URI or sqlite3 DBAPI2 connection. Other DBAPI2 objects are not tested. Please consider using SQLAlchemy.\n",
      "  experience = pd.read_sql_query(query_2_5, connection)\n"
     ]
    },
    {
     "data": {
      "text/plain": [
       "['Более 6 лет', 'Нет опыта', 'От 3 до 6 лет', 'От 1 года до 3 лет']"
      ]
     },
     "execution_count": 189,
     "metadata": {},
     "output_type": "execute_result"
    }
   ],
   "source": [
    "experience = pd.read_sql_query(query_2_5, connection)\n",
    "list(experience['experience'])"
   ]
  },
  {
   "attachments": {},
   "cell_type": "markdown",
   "metadata": {},
   "source": [
    "**6) Заброс, показывающий зависимость средней зарплаты от рабочего графика**"
   ]
  },
  {
   "cell_type": "code",
   "execution_count": null,
   "metadata": {},
   "outputs": [],
   "source": [
    "query_5_1 = '''select schedule, round(avg((coalesce(null, salary_from, salary_to)  + coalesce(null, salary_to, salary_from)) / 2)) avg_sal_schedule\n",
    "               from vacancies\n",
    "               where salary_from is not null or salary_to is not null\n",
    "               group by schedule\n",
    "'''"
   ]
  },
  {
   "cell_type": "code",
   "execution_count": 364,
   "metadata": {},
   "outputs": [
    {
     "name": "stderr",
     "output_type": "stream",
     "text": [
      "C:\\Users\\rodni\\AppData\\Local\\Temp\\ipykernel_30472\\1446242491.py:1: UserWarning: pandas only supports SQLAlchemy connectable (engine/connection) or database string URI or sqlite3 DBAPI2 connection. Other DBAPI2 objects are not tested. Please consider using SQLAlchemy.\n",
      "  avg_sal_schedule = pd.read_sql_query(query_5_1, connection)\n"
     ]
    },
    {
     "data": {
      "text/html": [
       "<div>\n",
       "<style scoped>\n",
       "    .dataframe tbody tr th:only-of-type {\n",
       "        vertical-align: middle;\n",
       "    }\n",
       "\n",
       "    .dataframe tbody tr th {\n",
       "        vertical-align: top;\n",
       "    }\n",
       "\n",
       "    .dataframe thead th {\n",
       "        text-align: right;\n",
       "    }\n",
       "</style>\n",
       "<table border=\"1\" class=\"dataframe\">\n",
       "  <thead>\n",
       "    <tr style=\"text-align: right;\">\n",
       "      <th></th>\n",
       "      <th>schedule</th>\n",
       "      <th>avg_sal_schedule</th>\n",
       "    </tr>\n",
       "  </thead>\n",
       "  <tbody>\n",
       "    <tr>\n",
       "      <th>0</th>\n",
       "      <td>Сменный график</td>\n",
       "      <td>44532.0</td>\n",
       "    </tr>\n",
       "    <tr>\n",
       "      <th>1</th>\n",
       "      <td>Вахтовый метод</td>\n",
       "      <td>123790.0</td>\n",
       "    </tr>\n",
       "    <tr>\n",
       "      <th>2</th>\n",
       "      <td>Гибкий график</td>\n",
       "      <td>100693.0</td>\n",
       "    </tr>\n",
       "    <tr>\n",
       "      <th>3</th>\n",
       "      <td>Удаленная работа</td>\n",
       "      <td>101323.0</td>\n",
       "    </tr>\n",
       "    <tr>\n",
       "      <th>4</th>\n",
       "      <td>Полный день</td>\n",
       "      <td>80126.0</td>\n",
       "    </tr>\n",
       "  </tbody>\n",
       "</table>\n",
       "</div>"
      ],
      "text/plain": [
       "           schedule  avg_sal_schedule\n",
       "0    Сменный график           44532.0\n",
       "1    Вахтовый метод          123790.0\n",
       "2     Гибкий график          100693.0\n",
       "3  Удаленная работа          101323.0\n",
       "4       Полный день           80126.0"
      ]
     },
     "execution_count": 364,
     "metadata": {},
     "output_type": "execute_result"
    }
   ],
   "source": [
    "avg_sal_schedule = pd.read_sql_query(query_5_1, connection)\n",
    "avg_sal_schedule"
   ]
  },
  {
   "attachments": {},
   "cell_type": "markdown",
   "metadata": {},
   "source": [
    "##### Выводы по анализу вакансий:\n",
    "\n",
    "* Самое большое количество вакансий находится в городе Москва\n",
    "\n",
    "* Около половины вакансий не имеют верхней или нижней границы оплаты труда в рублях. Возможно это связано с тем, что компания боится спугнуть потенциального работодателя\n",
    "\n",
    "* Среднее значение нижней границы зарплатной вилки - 71065 рублей, верхней - 110537\n",
    "\n",
    "* Самые популярные пары \"тип рабочего графика - тип трудоустройства\": Полный день — Полная занятость и Удалённая работа — Полная занятость\n",
    "\n",
    "* Самый требуемый опыт работы - от 1 года до 3 лет, самый редкий - более 6 лет. Так как людей, которые дошли до большого стажа в конкретой работе гораздо меньше, чем начинающих. Также, чем меньше требуемый опыт, тем проще найти сотрудника\n",
    "\n",
    "* Максимальная средняя зарплата при вахтовом графике работы\n"
   ]
  },
  {
   "attachments": {},
   "cell_type": "markdown",
   "metadata": {},
   "source": [
    "## <center> 3. Анализ работодателей"
   ]
  },
  {
   "attachments": {},
   "cell_type": "markdown",
   "metadata": {},
   "source": [
    "**1) Запрос, который позволит узнать, какие работодатели находятся на первом и пятом месте по количеству вакансий.**"
   ]
  },
  {
   "cell_type": "code",
   "execution_count": 190,
   "metadata": {},
   "outputs": [],
   "source": [
    "query_3_1 = '''(select e.name, count(e.id) \n",
    "                from EMPLOYERS e\n",
    "                join VACANCIES v on e.id = v.employer_id\n",
    "                group by e.name\n",
    "                order by count(e.id) desc\n",
    "                limit 1)\n",
    "\n",
    "                union all\n",
    "\n",
    "                (select e.name, count(e.id)\n",
    "                from EMPLOYERS e\n",
    "                join VACANCIES v on e.id = v.employer_id\n",
    "                group by e.name\n",
    "                order by count(e.id) desc\n",
    "                offset 4 limit 1)\n",
    "'''"
   ]
  },
  {
   "cell_type": "code",
   "execution_count": 195,
   "metadata": {},
   "outputs": [
    {
     "name": "stdout",
     "output_type": "stream",
     "text": [
      "Яндекс\n",
      "Газпром нефть\n"
     ]
    },
    {
     "name": "stderr",
     "output_type": "stream",
     "text": [
      "C:\\Users\\rodni\\AppData\\Local\\Temp\\ipykernel_30472\\1119753015.py:1: UserWarning: pandas only supports SQLAlchemy connectable (engine/connection) or database string URI or sqlite3 DBAPI2 connection. Other DBAPI2 objects are not tested. Please consider using SQLAlchemy.\n",
      "  employers = pd.read_sql_query(query_3_1, connection)\n"
     ]
    }
   ],
   "source": [
    "employers = pd.read_sql_query(query_3_1, connection)\n",
    "print(employers['name'][0])\n",
    "print(employers['name'][1])"
   ]
  },
  {
   "attachments": {},
   "cell_type": "markdown",
   "metadata": {},
   "source": [
    "**2) Запрос, который для каждого региона выведет количество работодателей и вакансий в нём (среди регионов, в которых нет вакансий)**"
   ]
  },
  {
   "cell_type": "code",
   "execution_count": 208,
   "metadata": {},
   "outputs": [],
   "source": [
    "query_3_2 =  '''select a.name, count(distinct e.id) cnt_emp, count(distinct v.id) cnt_amp\n",
    "                from areas a\n",
    "                left join vacancies v on v.area_id = a.id              \n",
    "                left join employers e on e.area = a.id\n",
    "                where v.id is null\n",
    "                group by a.id\n",
    "                order by 2 desc\n",
    "                limit 1\n",
    "'''"
   ]
  },
  {
   "cell_type": "code",
   "execution_count": 209,
   "metadata": {},
   "outputs": [
    {
     "name": "stderr",
     "output_type": "stream",
     "text": [
      "C:\\Users\\rodni\\AppData\\Local\\Temp\\ipykernel_30472\\1115088539.py:1: UserWarning: pandas only supports SQLAlchemy connectable (engine/connection) or database string URI or sqlite3 DBAPI2 connection. Other DBAPI2 objects are not tested. Please consider using SQLAlchemy.\n",
      "  cnt_emp_amp = pd.read_sql_query(query_3_2, connection)\n"
     ]
    },
    {
     "data": {
      "text/plain": [
       "'Россия'"
      ]
     },
     "execution_count": 209,
     "metadata": {},
     "output_type": "execute_result"
    }
   ],
   "source": [
    "cnt_emp_amp = pd.read_sql_query(query_3_2, connection)\n",
    "cnt_emp_amp['name'][0]"
   ]
  },
  {
   "attachments": {},
   "cell_type": "markdown",
   "metadata": {},
   "source": [
    "**3) Запрос, показывающий максимальное количество регионов, в которых работодатель публикует свои вакансии**"
   ]
  },
  {
   "cell_type": "code",
   "execution_count": 218,
   "metadata": {},
   "outputs": [],
   "source": [
    "query_3_3 =  '''SELECT e.name, count(DISTINCT v.area_id) AS cnt_a\n",
    "                FROM employers e\n",
    "                JOIN vacancies v ON e.id=v.employer_id\n",
    "                GROUP BY e.id\n",
    "                ORDER BY cnt_a DESC\n",
    "                LIMIT 1\n",
    "'''"
   ]
  },
  {
   "cell_type": "code",
   "execution_count": 219,
   "metadata": {},
   "outputs": [
    {
     "name": "stderr",
     "output_type": "stream",
     "text": [
      "C:\\Users\\rodni\\AppData\\Local\\Temp\\ipykernel_30472\\2644597097.py:1: UserWarning: pandas only supports SQLAlchemy connectable (engine/connection) or database string URI or sqlite3 DBAPI2 connection. Other DBAPI2 objects are not tested. Please consider using SQLAlchemy.\n",
      "  cnt_region = pd.read_sql(query_3_3, connection)\n"
     ]
    },
    {
     "data": {
      "text/plain": [
       "181"
      ]
     },
     "execution_count": 219,
     "metadata": {},
     "output_type": "execute_result"
    }
   ],
   "source": [
    "cnt_region = pd.read_sql(query_3_3, connection)\n",
    "cnt_region['cnt_a'][0]"
   ]
  },
  {
   "attachments": {},
   "cell_type": "markdown",
   "metadata": {},
   "source": [
    "**4) Запрос для подсчёта количества работодателей, у которых не указана сфера деятельности**"
   ]
  },
  {
   "cell_type": "code",
   "execution_count": 225,
   "metadata": {},
   "outputs": [],
   "source": [
    "query_3_4 = '''select count(id) cnt_emp\n",
    "               from EMPLOYERS e\n",
    "               left join EMPLOYERS_INDUSTRIES ei on employer_id = e.id\n",
    "               where employer_id is null'''"
   ]
  },
  {
   "cell_type": "code",
   "execution_count": 229,
   "metadata": {},
   "outputs": [
    {
     "name": "stderr",
     "output_type": "stream",
     "text": [
      "C:\\Users\\rodni\\AppData\\Local\\Temp\\ipykernel_30472\\3896276666.py:1: UserWarning: pandas only supports SQLAlchemy connectable (engine/connection) or database string URI or sqlite3 DBAPI2 connection. Other DBAPI2 objects are not tested. Please consider using SQLAlchemy.\n",
      "  cnt_emp = pd.read_sql_query(query_3_4, connection)\n"
     ]
    },
    {
     "data": {
      "text/plain": [
       "8419"
      ]
     },
     "execution_count": 229,
     "metadata": {},
     "output_type": "execute_result"
    }
   ],
   "source": [
    "cnt_emp = pd.read_sql_query(query_3_4, connection)\n",
    "cnt_emp['cnt_emp'][0]"
   ]
  },
  {
   "attachments": {},
   "cell_type": "markdown",
   "metadata": {},
   "source": [
    "**5) Запрос, чтобы узнать название компании, находящейся на третьем месте в алфавитном списке (по названию) компаний, у которых указано четыре сферы деятельности**"
   ]
  },
  {
   "cell_type": "code",
   "execution_count": 332,
   "metadata": {},
   "outputs": [],
   "source": [
    "query_3_5 = '''select e.name, count(industry_id)\n",
    "               from EMPLOYERS e\n",
    "               join EMPLOYERS_INDUSTRIES ei on employer_id = e.id\n",
    "               group by id \n",
    "               having count(industry_id) =4\n",
    "               order by e.name\n",
    "               offset 2 limit 1\n",
    "'''"
   ]
  },
  {
   "cell_type": "code",
   "execution_count": 333,
   "metadata": {},
   "outputs": [
    {
     "name": "stderr",
     "output_type": "stream",
     "text": [
      "C:\\Users\\rodni\\AppData\\Local\\Temp\\ipykernel_30472\\3721174881.py:1: UserWarning: pandas only supports SQLAlchemy connectable (engine/connection) or database string URI or sqlite3 DBAPI2 connection. Other DBAPI2 objects are not tested. Please consider using SQLAlchemy.\n",
      "  query_name = pd.read_sql_query(query_3_5, connection)\n"
     ]
    },
    {
     "data": {
      "text/plain": [
       "'2ГИС'"
      ]
     },
     "execution_count": 333,
     "metadata": {},
     "output_type": "execute_result"
    }
   ],
   "source": [
    "query_name = pd.read_sql_query(query_3_5, connection)\n",
    "query_name['name'][0]"
   ]
  },
  {
   "attachments": {},
   "cell_type": "markdown",
   "metadata": {},
   "source": [
    "**6) Запрос, показывающий у какого количества работодателей в качестве сферы деятельности указана «Разработка программного обеспечения»**"
   ]
  },
  {
   "cell_type": "code",
   "execution_count": 242,
   "metadata": {},
   "outputs": [],
   "source": [
    "query_3_6 = '''select i.name, count(employer_id) cnt_soft_develop\n",
    "               from INDUSTRIES i \n",
    "               join EMPLOYERS_INDUSTRIES ei on industry_id = i.id\n",
    "               where i.name = 'Разработка программного обеспечения'\n",
    "               group by i.id\n",
    "'''\n"
   ]
  },
  {
   "cell_type": "code",
   "execution_count": 243,
   "metadata": {},
   "outputs": [
    {
     "name": "stderr",
     "output_type": "stream",
     "text": [
      "C:\\Users\\rodni\\AppData\\Local\\Temp\\ipykernel_30472\\2310791923.py:1: UserWarning: pandas only supports SQLAlchemy connectable (engine/connection) or database string URI or sqlite3 DBAPI2 connection. Other DBAPI2 objects are not tested. Please consider using SQLAlchemy.\n",
      "  cnt_soft_develop = pd.read_sql_query(query_3_6, connection)\n"
     ]
    },
    {
     "data": {
      "text/plain": [
       "3553"
      ]
     },
     "execution_count": 243,
     "metadata": {},
     "output_type": "execute_result"
    }
   ],
   "source": [
    "cnt_soft_develop = pd.read_sql_query(query_3_6, connection)\n",
    "cnt_soft_develop['cnt_soft_develop'][0]"
   ]
  },
  {
   "attachments": {},
   "cell_type": "markdown",
   "metadata": {},
   "source": [
    "**7) Список регионов-миллионников , в которых представлены вакансии компании \"Яндекс\", вместе с количеством вакансий в этих регионах**"
   ]
  },
  {
   "cell_type": "code",
   "execution_count": 365,
   "metadata": {},
   "outputs": [],
   "source": [
    "tables = pd.read_html('https://ru.wikipedia.org/wiki/%D0%93%D0%BE%D1%80%D0%BE%D0%B4%D0%B0-%D0%BC%D0%B8%D0%BB%D0%BB%D0%B8%D0%BE%D0%BD%D0%B5%D1%80%D1%8B_%D0%A0%D0%BE%D1%81%D1%81%D0%B8%D0%B8')\n",
    "df = tables[1]\n",
    "cities = tuple(df['Город']) # Города миллионеры\n",
    "query_3_7 =  f'''select a.name, count(v.id)\n",
    "                from vacancies v\n",
    "                left join employers e on v.employer_id = e.id\n",
    "                left join areas a on a.id = v.area_id\n",
    "                where e.name = 'Яндекс' and a.name in {cities}\n",
    "                group by a.name\n",
    "                \n",
    "                union all\n",
    "                \n",
    "                select 'Total', count((v.id))\n",
    "                from vacancies v\n",
    "                left join employers e on v.employer_id = e.id\n",
    "                left join areas a on a.id = v.area_id\n",
    "                where e.name = 'Яндекс' and a.name in {cities}\n",
    "                order by 2 \n",
    "'''"
   ]
  },
  {
   "cell_type": "code",
   "execution_count": 368,
   "metadata": {},
   "outputs": [
    {
     "name": "stderr",
     "output_type": "stream",
     "text": [
      "C:\\Users\\rodni\\AppData\\Local\\Temp\\ipykernel_30472\\265762831.py:1: UserWarning: pandas only supports SQLAlchemy connectable (engine/connection) or database string URI or sqlite3 DBAPI2 connection. Other DBAPI2 objects are not tested. Please consider using SQLAlchemy.\n",
      "  cnt_yan_city_m = pd.read_sql_query(query_3_7, connection)\n"
     ]
    },
    {
     "data": {
      "text/html": [
       "<div>\n",
       "<style scoped>\n",
       "    .dataframe tbody tr th:only-of-type {\n",
       "        vertical-align: middle;\n",
       "    }\n",
       "\n",
       "    .dataframe tbody tr th {\n",
       "        vertical-align: top;\n",
       "    }\n",
       "\n",
       "    .dataframe thead th {\n",
       "        text-align: right;\n",
       "    }\n",
       "</style>\n",
       "<table border=\"1\" class=\"dataframe\">\n",
       "  <thead>\n",
       "    <tr style=\"text-align: right;\">\n",
       "      <th></th>\n",
       "      <th>name</th>\n",
       "      <th>count</th>\n",
       "    </tr>\n",
       "  </thead>\n",
       "  <tbody>\n",
       "    <tr>\n",
       "      <th>0</th>\n",
       "      <td>Омск</td>\n",
       "      <td>21</td>\n",
       "    </tr>\n",
       "    <tr>\n",
       "      <th>1</th>\n",
       "      <td>Челябинск</td>\n",
       "      <td>22</td>\n",
       "    </tr>\n",
       "    <tr>\n",
       "      <th>2</th>\n",
       "      <td>Красноярск</td>\n",
       "      <td>23</td>\n",
       "    </tr>\n",
       "    <tr>\n",
       "      <th>3</th>\n",
       "      <td>Волгоград</td>\n",
       "      <td>24</td>\n",
       "    </tr>\n",
       "    <tr>\n",
       "      <th>4</th>\n",
       "      <td>Пермь</td>\n",
       "      <td>25</td>\n",
       "    </tr>\n",
       "    <tr>\n",
       "      <th>5</th>\n",
       "      <td>Казань</td>\n",
       "      <td>25</td>\n",
       "    </tr>\n",
       "    <tr>\n",
       "      <th>6</th>\n",
       "      <td>Ростов-на-Дону</td>\n",
       "      <td>25</td>\n",
       "    </tr>\n",
       "    <tr>\n",
       "      <th>7</th>\n",
       "      <td>Уфа</td>\n",
       "      <td>26</td>\n",
       "    </tr>\n",
       "    <tr>\n",
       "      <th>8</th>\n",
       "      <td>Самара</td>\n",
       "      <td>26</td>\n",
       "    </tr>\n",
       "    <tr>\n",
       "      <th>9</th>\n",
       "      <td>Краснодар</td>\n",
       "      <td>30</td>\n",
       "    </tr>\n",
       "    <tr>\n",
       "      <th>10</th>\n",
       "      <td>Воронеж</td>\n",
       "      <td>32</td>\n",
       "    </tr>\n",
       "    <tr>\n",
       "      <th>11</th>\n",
       "      <td>Новосибирск</td>\n",
       "      <td>35</td>\n",
       "    </tr>\n",
       "    <tr>\n",
       "      <th>12</th>\n",
       "      <td>Нижний Новгород</td>\n",
       "      <td>36</td>\n",
       "    </tr>\n",
       "    <tr>\n",
       "      <th>13</th>\n",
       "      <td>Екатеринбург</td>\n",
       "      <td>39</td>\n",
       "    </tr>\n",
       "    <tr>\n",
       "      <th>14</th>\n",
       "      <td>Санкт-Петербург</td>\n",
       "      <td>42</td>\n",
       "    </tr>\n",
       "    <tr>\n",
       "      <th>15</th>\n",
       "      <td>Москва</td>\n",
       "      <td>54</td>\n",
       "    </tr>\n",
       "    <tr>\n",
       "      <th>16</th>\n",
       "      <td>Total</td>\n",
       "      <td>485</td>\n",
       "    </tr>\n",
       "  </tbody>\n",
       "</table>\n",
       "</div>"
      ],
      "text/plain": [
       "               name  count\n",
       "0              Омск     21\n",
       "1         Челябинск     22\n",
       "2        Красноярск     23\n",
       "3         Волгоград     24\n",
       "4             Пермь     25\n",
       "5            Казань     25\n",
       "6    Ростов-на-Дону     25\n",
       "7               Уфа     26\n",
       "8            Самара     26\n",
       "9         Краснодар     30\n",
       "10          Воронеж     32\n",
       "11      Новосибирск     35\n",
       "12  Нижний Новгород     36\n",
       "13     Екатеринбург     39\n",
       "14  Санкт-Петербург     42\n",
       "15           Москва     54\n",
       "16            Total    485"
      ]
     },
     "execution_count": 368,
     "metadata": {},
     "output_type": "execute_result"
    }
   ],
   "source": [
    "cnt_yan_city_m = pd.read_sql_query(query_3_7, connection)\n",
    "cnt_yan_city_m"
   ]
  },
  {
   "attachments": {},
   "cell_type": "markdown",
   "metadata": {},
   "source": [
    "**8) Количество вакансий в городах-миллионерах**"
   ]
  },
  {
   "cell_type": "code",
   "execution_count": 371,
   "metadata": {},
   "outputs": [],
   "source": [
    "query_3_8 = f'''select a.name, count(v.id)\n",
    "                from vacancies v\n",
    "                left join employers e on v.employer_id = e.id\n",
    "                left join areas a on a.id = v.area_id\n",
    "                where  a.name in {cities}\n",
    "                group by a.name\n",
    "                \n",
    "                union all\n",
    "                \n",
    "                select 'Total', count((v.id))\n",
    "                from vacancies v\n",
    "                left join employers e on v.employer_id = e.id\n",
    "                left join areas a on a.id = v.area_id\n",
    "                where  a.name in {cities}\n",
    "                order by 2 \n",
    "'''"
   ]
  },
  {
   "cell_type": "code",
   "execution_count": 373,
   "metadata": {},
   "outputs": [
    {
     "name": "stderr",
     "output_type": "stream",
     "text": [
      "C:\\Users\\rodni\\AppData\\Local\\Temp\\ipykernel_30472\\332801555.py:1: UserWarning: pandas only supports SQLAlchemy connectable (engine/connection) or database string URI or sqlite3 DBAPI2 connection. Other DBAPI2 objects are not tested. Please consider using SQLAlchemy.\n",
      "  cnt_vac_city_m = pd.read_sql_query(query_3_8, connection)\n"
     ]
    },
    {
     "data": {
      "text/html": [
       "<div>\n",
       "<style scoped>\n",
       "    .dataframe tbody tr th:only-of-type {\n",
       "        vertical-align: middle;\n",
       "    }\n",
       "\n",
       "    .dataframe tbody tr th {\n",
       "        vertical-align: top;\n",
       "    }\n",
       "\n",
       "    .dataframe thead th {\n",
       "        text-align: right;\n",
       "    }\n",
       "</style>\n",
       "<table border=\"1\" class=\"dataframe\">\n",
       "  <thead>\n",
       "    <tr style=\"text-align: right;\">\n",
       "      <th></th>\n",
       "      <th>name</th>\n",
       "      <th>count</th>\n",
       "    </tr>\n",
       "  </thead>\n",
       "  <tbody>\n",
       "    <tr>\n",
       "      <th>0</th>\n",
       "      <td>Волгоград</td>\n",
       "      <td>456</td>\n",
       "    </tr>\n",
       "    <tr>\n",
       "      <th>1</th>\n",
       "      <td>Омск</td>\n",
       "      <td>617</td>\n",
       "    </tr>\n",
       "    <tr>\n",
       "      <th>2</th>\n",
       "      <td>Уфа</td>\n",
       "      <td>767</td>\n",
       "    </tr>\n",
       "    <tr>\n",
       "      <th>3</th>\n",
       "      <td>Пермь</td>\n",
       "      <td>771</td>\n",
       "    </tr>\n",
       "    <tr>\n",
       "      <th>4</th>\n",
       "      <td>Челябинск</td>\n",
       "      <td>786</td>\n",
       "    </tr>\n",
       "    <tr>\n",
       "      <th>5</th>\n",
       "      <td>Красноярск</td>\n",
       "      <td>847</td>\n",
       "    </tr>\n",
       "    <tr>\n",
       "      <th>6</th>\n",
       "      <td>Воронеж</td>\n",
       "      <td>1063</td>\n",
       "    </tr>\n",
       "    <tr>\n",
       "      <th>7</th>\n",
       "      <td>Ростов-на-Дону</td>\n",
       "      <td>1131</td>\n",
       "    </tr>\n",
       "    <tr>\n",
       "      <th>8</th>\n",
       "      <td>Самара</td>\n",
       "      <td>1144</td>\n",
       "    </tr>\n",
       "    <tr>\n",
       "      <th>9</th>\n",
       "      <td>Краснодар</td>\n",
       "      <td>1301</td>\n",
       "    </tr>\n",
       "    <tr>\n",
       "      <th>10</th>\n",
       "      <td>Казань</td>\n",
       "      <td>1415</td>\n",
       "    </tr>\n",
       "    <tr>\n",
       "      <th>11</th>\n",
       "      <td>Нижний Новгород</td>\n",
       "      <td>1670</td>\n",
       "    </tr>\n",
       "    <tr>\n",
       "      <th>12</th>\n",
       "      <td>Екатеринбург</td>\n",
       "      <td>1698</td>\n",
       "    </tr>\n",
       "    <tr>\n",
       "      <th>13</th>\n",
       "      <td>Новосибирск</td>\n",
       "      <td>2006</td>\n",
       "    </tr>\n",
       "    <tr>\n",
       "      <th>14</th>\n",
       "      <td>Санкт-Петербург</td>\n",
       "      <td>2851</td>\n",
       "    </tr>\n",
       "    <tr>\n",
       "      <th>15</th>\n",
       "      <td>Москва</td>\n",
       "      <td>5333</td>\n",
       "    </tr>\n",
       "    <tr>\n",
       "      <th>16</th>\n",
       "      <td>Total</td>\n",
       "      <td>23856</td>\n",
       "    </tr>\n",
       "  </tbody>\n",
       "</table>\n",
       "</div>"
      ],
      "text/plain": [
       "               name  count\n",
       "0         Волгоград    456\n",
       "1              Омск    617\n",
       "2               Уфа    767\n",
       "3             Пермь    771\n",
       "4         Челябинск    786\n",
       "5        Красноярск    847\n",
       "6           Воронеж   1063\n",
       "7    Ростов-на-Дону   1131\n",
       "8            Самара   1144\n",
       "9         Краснодар   1301\n",
       "10           Казань   1415\n",
       "11  Нижний Новгород   1670\n",
       "12     Екатеринбург   1698\n",
       "13      Новосибирск   2006\n",
       "14  Санкт-Петербург   2851\n",
       "15           Москва   5333\n",
       "16            Total  23856"
      ]
     },
     "execution_count": 373,
     "metadata": {},
     "output_type": "execute_result"
    }
   ],
   "source": [
    "cnt_vac_city_m = pd.read_sql_query(query_3_8, connection)\n",
    "cnt_vac_city_m"
   ]
  },
  {
   "attachments": {},
   "cell_type": "markdown",
   "metadata": {},
   "source": [
    "##### Выводы по анализу работадатей:\n",
    "\n",
    "* Самый популярный работадатель - \"Яндекс\"\n",
    "\n",
    "* \"Яндекс\" разместил свои вакансии в 181 регионе\n",
    "\n",
    "* Треть работадотелей не указывают сферу деятельности\n",
    "\n",
    "* У компании \"2ГИС\" указано 4 сферы деятельности\n",
    "\n",
    "* У 3553 работодателей в качестве сферы деятельности указана «Разработка программного обеспечения»\n",
    "\n",
    "* Среди городов-миллионеров наибольшее количество вакансий компании \"Яндекс\" в городе Москва\n",
    "\n",
    "* В городах-миллионерах 485 вакансий компании \"Яндекс\"\n",
    "\n",
    "* В городах-миллионерах находится около половины вакансий"
   ]
  },
  {
   "attachments": {},
   "cell_type": "markdown",
   "metadata": {},
   "source": [
    "# <center> 4. Предметный анализ"
   ]
  },
  {
   "attachments": {},
   "cell_type": "markdown",
   "metadata": {},
   "source": [
    "**1) Количество вакинсий, имеющих отношения к данным?**"
   ]
  },
  {
   "cell_type": "code",
   "execution_count": 255,
   "metadata": {},
   "outputs": [],
   "source": [
    "query_4_1 ='''select count(*) vac_data\n",
    "          from VACANCIES v\n",
    "          where lower(name) like '%данн%' or lower(name) like '%data%'\n",
    "'''"
   ]
  },
  {
   "cell_type": "code",
   "execution_count": 256,
   "metadata": {},
   "outputs": [
    {
     "name": "stdout",
     "output_type": "stream",
     "text": [
      "1771\n"
     ]
    },
    {
     "name": "stderr",
     "output_type": "stream",
     "text": [
      "C:\\Users\\rodni\\AppData\\Local\\Temp\\ipykernel_30472\\3684118262.py:1: UserWarning: pandas only supports SQLAlchemy connectable (engine/connection) or database string URI or sqlite3 DBAPI2 connection. Other DBAPI2 objects are not tested. Please consider using SQLAlchemy.\n",
      "  vac_data = pd.read_sql_query(query_4_1, connection)\n"
     ]
    }
   ],
   "source": [
    "vac_data = pd.read_sql_query(query_4_1, connection)\n",
    "print(vac_data['vac_data'][0])"
   ]
  },
  {
   "attachments": {},
   "cell_type": "markdown",
   "metadata": {},
   "source": [
    "**2) Количество подходящих вакансий для начинающего дата-сайентиста**"
   ]
  },
  {
   "cell_type": "code",
   "execution_count": 257,
   "metadata": {},
   "outputs": [],
   "source": [
    "query_4_2 ='''select count(*) cnt_jun_ds\n",
    "            from VACANCIES v\n",
    "            where (lower(name) like '%data scientist%' or lower(name) like '%data science%' or lower(name) like '%исследователь данных%' or \n",
    "            (name like '%ML%' and name not like '%HTML%') or lower(name) like '%machine learning%' or lower(name) like '%машинн%обучен%%')\n",
    "            and (lower(name) like '%junior%' or experience like '%Нет опыта%' or employment like 'Стажировка')'''"
   ]
  },
  {
   "cell_type": "code",
   "execution_count": 275,
   "metadata": {},
   "outputs": [
    {
     "name": "stderr",
     "output_type": "stream",
     "text": [
      "C:\\Users\\rodni\\AppData\\Local\\Temp\\ipykernel_30472\\3402010046.py:1: UserWarning: pandas only supports SQLAlchemy connectable (engine/connection) or database string URI or sqlite3 DBAPI2 connection. Other DBAPI2 objects are not tested. Please consider using SQLAlchemy.\n",
      "  cnt_jun_ds = pd.read_sql_query(query_4_2, connection)\n"
     ]
    },
    {
     "data": {
      "text/plain": [
       "51"
      ]
     },
     "execution_count": 275,
     "metadata": {},
     "output_type": "execute_result"
    }
   ],
   "source": [
    "cnt_jun_ds = pd.read_sql_query(query_4_2, connection)\n",
    "cnt_jun_ds['cnt_jun_ds'][0]"
   ]
  },
  {
   "attachments": {},
   "cell_type": "markdown",
   "metadata": {},
   "source": [
    "**3) Количество вакансий для DS, в которых в качестве ключевого навыка указан SQL или postgres**"
   ]
  },
  {
   "cell_type": "code",
   "execution_count": 100,
   "metadata": {},
   "outputs": [],
   "source": [
    "query_4_3 =  '''select count(*) cnt_sql_ds\n",
    "                from VACANCIES v\n",
    "                where (lower(name) like '%data scientist%' or lower(name) like '%data science%' or lower(name) like '%исследователь данных%' or \n",
    "                (name like '%ML%' and name not like '%HTML%') or lower(name) like '%machine learning%' or lower(name) like '%машинн%обучен%%') \n",
    "                and (lower(key_skills) like '%sql%' or lower(key_skills) like '%postgres%')\n",
    "'''"
   ]
  },
  {
   "cell_type": "code",
   "execution_count": 103,
   "metadata": {},
   "outputs": [
    {
     "name": "stderr",
     "output_type": "stream",
     "text": [
      "C:\\Users\\rodni\\AppData\\Local\\Temp\\ipykernel_30472\\928852559.py:1: UserWarning: pandas only supports SQLAlchemy connectable (engine/connection) or database string URI or sqlite3 DBAPI2 connection. Other DBAPI2 objects are not tested. Please consider using SQLAlchemy.\n",
      "  cnt_sql_ds = pd.read_sql_query(query_6_3, connection)\n"
     ]
    },
    {
     "data": {
      "text/plain": [
       "201"
      ]
     },
     "execution_count": 103,
     "metadata": {},
     "output_type": "execute_result"
    }
   ],
   "source": [
    "cnt_sql_ds = pd.read_sql_query(query_4_3, connection)\n",
    "cnt_sql_ds['cnt_sql_ds'][0]"
   ]
  },
  {
   "attachments": {},
   "cell_type": "markdown",
   "metadata": {},
   "source": [
    "**4) Насколько популярен Python в требованиях работодателей к DS. Количество вакансий, в которых в качестве ключевого навыка указан Python.**"
   ]
  },
  {
   "cell_type": "code",
   "execution_count": 107,
   "metadata": {},
   "outputs": [],
   "source": [
    "query_4_4 =  '''select count(*) cnt_py_ds\n",
    "                from VACANCIES v\n",
    "                where (lower(name) like '%data scientist%' or lower(name) like '%data science%' or lower(name) like '%исследователь данных%' or \n",
    "                (name like '%ML%' and name not like '%HTML%') or lower(name) like '%machine learning%' or lower(name) like '%машинн%обучен%%') \n",
    "                and (lower(key_skills) like '%python%')'''"
   ]
  },
  {
   "cell_type": "code",
   "execution_count": 109,
   "metadata": {},
   "outputs": [
    {
     "name": "stderr",
     "output_type": "stream",
     "text": [
      "C:\\Users\\rodni\\AppData\\Local\\Temp\\ipykernel_30472\\25366536.py:1: UserWarning: pandas only supports SQLAlchemy connectable (engine/connection) or database string URI or sqlite3 DBAPI2 connection. Other DBAPI2 objects are not tested. Please consider using SQLAlchemy.\n",
      "  cnt_py_ds = pd.read_sql_query(query_6_4, connection)\n"
     ]
    },
    {
     "data": {
      "text/plain": [
       "351"
      ]
     },
     "execution_count": 109,
     "metadata": {},
     "output_type": "execute_result"
    }
   ],
   "source": [
    "cnt_py_ds = pd.read_sql_query(query_4_4, connection)\n",
    "cnt_py_ds['cnt_py_ds'][0]"
   ]
  },
  {
   "attachments": {},
   "cell_type": "markdown",
   "metadata": {},
   "source": [
    "**5) Количество ключевых навыков в среднем указывают в вакансиях для DS**"
   ]
  },
  {
   "cell_type": "code",
   "execution_count": 266,
   "metadata": {},
   "outputs": [],
   "source": [
    "query_4_5 =  '''select  round(AVG(length(key_skills) - length(replace(key_skills, chr(9), '')) + 1), 2) cnt_avg_key_skill\n",
    "                from VACANCIES v\n",
    "                where (lower(name) like '%data scientist%' or lower(name) like '%data science%' or lower(name) like '%исследователь данных%' or \n",
    "                (name like '%ML%' and name not like '%HTML%') or lower(name) like '%machine learning%' or lower(name) like '%машинн%обучен%%')\n",
    "'''"
   ]
  },
  {
   "cell_type": "code",
   "execution_count": 267,
   "metadata": {},
   "outputs": [
    {
     "name": "stderr",
     "output_type": "stream",
     "text": [
      "C:\\Users\\rodni\\AppData\\Local\\Temp\\ipykernel_30472\\1432531198.py:1: UserWarning: pandas only supports SQLAlchemy connectable (engine/connection) or database string URI or sqlite3 DBAPI2 connection. Other DBAPI2 objects are not tested. Please consider using SQLAlchemy.\n",
      "  cnt_avg_key_skill = pd.read_sql_query(query_4_5, connection)\n"
     ]
    },
    {
     "data": {
      "text/plain": [
       "6.41"
      ]
     },
     "execution_count": 267,
     "metadata": {},
     "output_type": "execute_result"
    }
   ],
   "source": [
    "cnt_avg_key_skill = pd.read_sql_query(query_4_5, connection)\n",
    "cnt_avg_key_skill['cnt_avg_key_skill'][0]"
   ]
  },
  {
   "attachments": {},
   "cell_type": "markdown",
   "metadata": {},
   "source": [
    "**6) Запрос, позволяющий вычислить, какую зарплату для DS в среднем указывают для каждого типа требуемого опыта**"
   ]
  },
  {
   "cell_type": "code",
   "execution_count": 359,
   "metadata": {},
   "outputs": [],
   "source": [
    "query_4_6 =  '''select  experience, round(avg((coalesce(null, salary_from, salary_to)  + coalesce(null, salary_to, salary_from)) / 2)) avg_salary\n",
    "                from VACANCIES v\n",
    "                where (lower(name) like '%data scientist%' or lower(name) like '%data science%' or lower(name) like '%исследователь данных%' or \n",
    "                (name like '%ML%' and name not like '%HTML%') or lower(name) like '%machine learning%' or lower(name) like '%машинн%обучен%%') \n",
    "                and (salary_from is not NUll or salary_to is not NUll) \n",
    "                group by experience\n",
    "             '''"
   ]
  },
  {
   "cell_type": "code",
   "execution_count": 360,
   "metadata": {},
   "outputs": [
    {
     "name": "stderr",
     "output_type": "stream",
     "text": [
      "C:\\Users\\rodni\\AppData\\Local\\Temp\\ipykernel_30472\\1998556985.py:1: UserWarning: pandas only supports SQLAlchemy connectable (engine/connection) or database string URI or sqlite3 DBAPI2 connection. Other DBAPI2 objects are not tested. Please consider using SQLAlchemy.\n",
      "  avg_salary = pd.read_sql_query(query_4_6, connection)\n"
     ]
    },
    {
     "data": {
      "text/plain": [
       "243115.0"
      ]
     },
     "execution_count": 360,
     "metadata": {},
     "output_type": "execute_result"
    }
   ],
   "source": [
    "avg_salary = pd.read_sql_query(query_4_6, connection)\n",
    "avg_salary[avg_salary['experience'] == 'От 3 до 6 лет']['avg_salary'][2]"
   ]
  },
  {
   "attachments": {},
   "cell_type": "markdown",
   "metadata": {},
   "source": [
    "**7) Заброс, показывающий зависимость средней зарплаты дата-сайентиста от рабочего графика**"
   ]
  },
  {
   "cell_type": "code",
   "execution_count": 379,
   "metadata": {},
   "outputs": [],
   "source": [
    "query_4_7 = ''' select  schedule, round(avg((coalesce(null, salary_from, salary_to)  + coalesce(null, salary_to, salary_from)) / 2)) avg_salary\n",
    "                from VACANCIES v\n",
    "                where (lower(name) like '%data scientist%' or lower(name) like '%data science%' or lower(name) like '%исследователь данных%' or \n",
    "                (name like '%ML%' and name not like '%HTML%') or lower(name) like '%machine learning%' or lower(name) like '%машинн%обучен%%') \n",
    "                and (salary_from is not NUll or salary_to is not NUll) \n",
    "                group by schedule\n",
    "'''"
   ]
  },
  {
   "cell_type": "code",
   "execution_count": 363,
   "metadata": {},
   "outputs": [
    {
     "name": "stderr",
     "output_type": "stream",
     "text": [
      "C:\\Users\\rodni\\AppData\\Local\\Temp\\ipykernel_30472\\1803103931.py:1: UserWarning: pandas only supports SQLAlchemy connectable (engine/connection) or database string URI or sqlite3 DBAPI2 connection. Other DBAPI2 objects are not tested. Please consider using SQLAlchemy.\n",
      "  ds_avg_sal_schedle = pd.read_sql_query(query_4_7, connection)\n"
     ]
    },
    {
     "data": {
      "text/html": [
       "<div>\n",
       "<style scoped>\n",
       "    .dataframe tbody tr th:only-of-type {\n",
       "        vertical-align: middle;\n",
       "    }\n",
       "\n",
       "    .dataframe tbody tr th {\n",
       "        vertical-align: top;\n",
       "    }\n",
       "\n",
       "    .dataframe thead th {\n",
       "        text-align: right;\n",
       "    }\n",
       "</style>\n",
       "<table border=\"1\" class=\"dataframe\">\n",
       "  <thead>\n",
       "    <tr style=\"text-align: right;\">\n",
       "      <th></th>\n",
       "      <th>schedule</th>\n",
       "      <th>avg_salary</th>\n",
       "    </tr>\n",
       "  </thead>\n",
       "  <tbody>\n",
       "    <tr>\n",
       "      <th>0</th>\n",
       "      <td>Гибкий график</td>\n",
       "      <td>140500.0</td>\n",
       "    </tr>\n",
       "    <tr>\n",
       "      <th>1</th>\n",
       "      <td>Полный день</td>\n",
       "      <td>175726.0</td>\n",
       "    </tr>\n",
       "    <tr>\n",
       "      <th>2</th>\n",
       "      <td>Удаленная работа</td>\n",
       "      <td>190043.0</td>\n",
       "    </tr>\n",
       "  </tbody>\n",
       "</table>\n",
       "</div>"
      ],
      "text/plain": [
       "           schedule  avg_salary\n",
       "0     Гибкий график    140500.0\n",
       "1       Полный день    175726.0\n",
       "2  Удаленная работа    190043.0"
      ]
     },
     "execution_count": 363,
     "metadata": {},
     "output_type": "execute_result"
    }
   ],
   "source": [
    "ds_avg_sal_schedle = pd.read_sql_query(query_4_7, connection)\n",
    "ds_avg_sal_schedle"
   ]
  },
  {
   "attachments": {},
   "cell_type": "markdown",
   "metadata": {},
   "source": [
    "##### Выводы по предметному анализу:\n",
    "\n",
    "* 1771 вакансий имеет отношение к данным\n",
    "\n",
    "* Для начинающего дата-сайентиста имеется 51 вакансия\n",
    "\n",
    "* Количество вакансий для дата-сайентиста, где в качестве ключевого навыка указан SQL или postgres - 201\n",
    "\n",
    "* Количество вакансий для дата-сайентиста, где в качестве ключевого навыка указан Python - 351\n",
    "\n",
    "*  В среднем в вакансиях для DS указывают около 6 ключевых навыков\n",
    "\n",
    "*  Дата-сайентист с опытом работы от 3 до 6 лет может расчитывать на зарплату 243115 р.\n",
    "\n",
    "* Для дата-сайнтистов наибольшая средняя зарпата при удаленном графике работы"
   ]
  },
  {
   "cell_type": "code",
   "execution_count": 378,
   "metadata": {},
   "outputs": [],
   "source": [
    "connection.close() #закрытие соединения после окончания работы"
   ]
  },
  {
   "attachments": {},
   "cell_type": "markdown",
   "metadata": {},
   "source": [
    "# <center> Общий вывод по результатам анализа"
   ]
  },
  {
   "attachments": {},
   "cell_type": "markdown",
   "metadata": {},
   "source": [
    "Целью проекта было проанализировать вакансии из HeadHunter. На основании проведенного исследования, можно сделать следующие выводы: \n",
    "\n",
    "* Наибольшее количество вакансий в городе Москва\n",
    "\n",
    "* Самые популярные графики работы в вакансиях - полный день и удаленная работа\n",
    "\n",
    "Преимущество полного рабочего для в том, что один сотрудник любом случае продуктивнее, чем два сотрудника на половину рабочего дня. Преимущество удалённой работы для работодателя в том, что он может отбирать сотрудников вне зависимости от места жительства. Это повышает шансы найти специалистов с нужными навыками.\n",
    "\n",
    "* Половина от общего количества вакансий находится в городах-миллионерах\n",
    "\n",
    "Обуславливается тем, что люди из обычных городов или деревень стремятся переехать в города-миллионеры, поэтому в таких городах выше конкуренция, следовательно и больше работадателей\n",
    "\n",
    "* Самый популярный работадатель - \"Яндекс\"\n",
    "\n",
    "* Самая популярная сфера деятельности - разработка программного обеспечения\n",
    "\n",
    "Объясняется это тем, что владельцы бизнеса стремятся к максимальной автоматизации, эффективности алгоритмов."
   ]
  }
 ],
 "metadata": {
  "kernelspec": {
   "display_name": "Python 3",
   "language": "python",
   "name": "python3"
  },
  "language_info": {
   "codemirror_mode": {
    "name": "ipython",
    "version": 3
   },
   "file_extension": ".py",
   "mimetype": "text/x-python",
   "name": "python",
   "nbconvert_exporter": "python",
   "pygments_lexer": "ipython3",
   "version": "3.9.10"
  },
  "orig_nbformat": 4
 },
 "nbformat": 4,
 "nbformat_minor": 2
}
